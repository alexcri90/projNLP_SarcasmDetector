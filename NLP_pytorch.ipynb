{
 "cells": [
  {
   "cell_type": "code",
   "execution_count": 1,
   "metadata": {},
   "outputs": [
    {
     "name": "stdout",
     "output_type": "stream",
     "text": [
      "Looking in indexes: https://download.pytorch.org/whl/cu121\n",
      "Collecting torch\n",
      "  Downloading https://download.pytorch.org/whl/cu121/torch-2.4.0%2Bcu121-cp311-cp311-win_amd64.whl (2442.0 MB)\n",
      "     ---------------------------------------- 0.0/2.4 GB ? eta -:--:--\n",
      "     ---------------------------------------- 0.0/2.4 GB 51.6 MB/s eta 0:00:48\n",
      "     ---------------------------------------- 0.0/2.4 GB 59.0 MB/s eta 0:00:41\n",
      "      --------------------------------------- 0.0/2.4 GB 61.5 MB/s eta 0:00:40\n",
      "      --------------------------------------- 0.1/2.4 GB 62.6 MB/s eta 0:00:39\n",
      "     - -------------------------------------- 0.1/2.4 GB 63.0 MB/s eta 0:00:38\n",
      "     - -------------------------------------- 0.1/2.4 GB 62.6 MB/s eta 0:00:38\n",
      "     - -------------------------------------- 0.1/2.4 GB 62.9 MB/s eta 0:00:38\n",
      "     - -------------------------------------- 0.1/2.4 GB 62.9 MB/s eta 0:00:38\n",
      "     - -------------------------------------- 0.1/2.4 GB 62.7 MB/s eta 0:00:38\n",
      "     -- ------------------------------------- 0.1/2.4 GB 62.9 MB/s eta 0:00:37\n",
      "     -- ------------------------------------- 0.1/2.4 GB 63.6 MB/s eta 0:00:37\n",
      "     -- ------------------------------------- 0.2/2.4 GB 63.8 MB/s eta 0:00:36\n",
      "     -- ------------------------------------- 0.2/2.4 GB 63.6 MB/s eta 0:00:36\n",
      "     --- ------------------------------------ 0.2/2.4 GB 63.3 MB/s eta 0:00:36\n",
      "     --- ------------------------------------ 0.2/2.4 GB 63.4 MB/s eta 0:00:36\n",
      "     --- ------------------------------------ 0.2/2.4 GB 63.3 MB/s eta 0:00:36\n",
      "     --- ------------------------------------ 0.2/2.4 GB 63.3 MB/s eta 0:00:36\n",
      "     --- ------------------------------------ 0.2/2.4 GB 63.6 MB/s eta 0:00:35\n",
      "     ---- ----------------------------------- 0.3/2.4 GB 63.6 MB/s eta 0:00:35\n",
      "     ---- ----------------------------------- 0.3/2.4 GB 64.0 MB/s eta 0:00:35\n",
      "     ---- ----------------------------------- 0.3/2.4 GB 64.2 MB/s eta 0:00:34\n",
      "     ---- ----------------------------------- 0.3/2.4 GB 64.5 MB/s eta 0:00:34\n",
      "     ----- ---------------------------------- 0.3/2.4 GB 64.5 MB/s eta 0:00:34\n",
      "     ----- ---------------------------------- 0.3/2.4 GB 64.0 MB/s eta 0:00:34\n",
      "     ----- ---------------------------------- 0.3/2.4 GB 64.2 MB/s eta 0:00:33\n",
      "     ----- ---------------------------------- 0.3/2.4 GB 64.0 MB/s eta 0:00:33\n",
      "     ----- ---------------------------------- 0.4/2.4 GB 64.0 MB/s eta 0:00:33\n",
      "     ------ --------------------------------- 0.4/2.4 GB 64.2 MB/s eta 0:00:33\n",
      "     ------ --------------------------------- 0.4/2.4 GB 64.2 MB/s eta 0:00:32\n",
      "     ------ --------------------------------- 0.4/2.4 GB 64.2 MB/s eta 0:00:32\n",
      "     ------ --------------------------------- 0.4/2.4 GB 64.2 MB/s eta 0:00:32\n",
      "     ------ --------------------------------- 0.4/2.4 GB 63.5 MB/s eta 0:00:32\n",
      "     ------- -------------------------------- 0.4/2.4 GB 63.7 MB/s eta 0:00:32\n",
      "     ------- -------------------------------- 0.4/2.4 GB 63.5 MB/s eta 0:00:32\n",
      "     ------- -------------------------------- 0.5/2.4 GB 63.0 MB/s eta 0:00:32\n",
      "     ------- -------------------------------- 0.5/2.4 GB 62.1 MB/s eta 0:00:32\n",
      "     ------- -------------------------------- 0.5/2.4 GB 61.8 MB/s eta 0:00:32\n",
      "     -------- ------------------------------- 0.5/2.4 GB 61.6 MB/s eta 0:00:32\n",
      "     -------- ------------------------------- 0.5/2.4 GB 60.9 MB/s eta 0:00:32\n",
      "     -------- ------------------------------- 0.5/2.4 GB 59.9 MB/s eta 0:00:33\n",
      "     -------- ------------------------------- 0.5/2.4 GB 58.4 MB/s eta 0:00:33\n",
      "     -------- ------------------------------- 0.5/2.4 GB 58.4 MB/s eta 0:00:33\n",
      "     -------- ------------------------------- 0.5/2.4 GB 57.8 MB/s eta 0:00:33\n",
      "     --------- ------------------------------ 0.6/2.4 GB 56.8 MB/s eta 0:00:34\n",
      "     --------- ------------------------------ 0.6/2.4 GB 56.6 MB/s eta 0:00:34\n",
      "     --------- ------------------------------ 0.6/2.4 GB 56.8 MB/s eta 0:00:33\n",
      "     --------- ------------------------------ 0.6/2.4 GB 57.2 MB/s eta 0:00:33\n",
      "     --------- ------------------------------ 0.6/2.4 GB 57.2 MB/s eta 0:00:33\n",
      "     --------- ------------------------------ 0.6/2.4 GB 57.2 MB/s eta 0:00:33\n",
      "     ---------- ----------------------------- 0.6/2.4 GB 54.6 MB/s eta 0:00:34\n",
      "     ---------- ----------------------------- 0.6/2.4 GB 54.6 MB/s eta 0:00:34\n",
      "     ---------- ----------------------------- 0.6/2.4 GB 54.4 MB/s eta 0:00:33\n",
      "     ---------- ----------------------------- 0.7/2.4 GB 54.2 MB/s eta 0:00:33\n",
      "     ----------- ---------------------------- 0.7/2.4 GB 54.4 MB/s eta 0:00:33\n",
      "     ----------- ---------------------------- 0.7/2.4 GB 54.4 MB/s eta 0:00:33\n",
      "     ----------- ---------------------------- 0.7/2.4 GB 54.8 MB/s eta 0:00:32\n",
      "     ----------- ---------------------------- 0.7/2.4 GB 55.1 MB/s eta 0:00:32\n",
      "     ----------- ---------------------------- 0.7/2.4 GB 56.1 MB/s eta 0:00:31\n",
      "     ------------ --------------------------- 0.7/2.4 GB 56.1 MB/s eta 0:00:31\n",
      "     ------------ --------------------------- 0.8/2.4 GB 56.1 MB/s eta 0:00:31\n",
      "     ------------ --------------------------- 0.8/2.4 GB 57.0 MB/s eta 0:00:30\n",
      "     ------------ --------------------------- 0.8/2.4 GB 58.8 MB/s eta 0:00:29\n",
      "     ------------- -------------------------- 0.8/2.4 GB 59.2 MB/s eta 0:00:28\n",
      "     ------------- -------------------------- 0.8/2.4 GB 59.2 MB/s eta 0:00:28\n",
      "     ------------- -------------------------- 0.8/2.4 GB 59.9 MB/s eta 0:00:28\n",
      "     ------------- -------------------------- 0.8/2.4 GB 59.2 MB/s eta 0:00:28\n",
      "     ------------- -------------------------- 0.8/2.4 GB 58.6 MB/s eta 0:00:28\n",
      "     ------------- -------------------------- 0.8/2.4 GB 58.0 MB/s eta 0:00:28\n",
      "     -------------- ------------------------- 0.9/2.4 GB 57.4 MB/s eta 0:00:28\n",
      "     -------------- ------------------------- 0.9/2.4 GB 59.4 MB/s eta 0:00:27\n",
      "     -------------- ------------------------- 0.9/2.4 GB 59.4 MB/s eta 0:00:27\n",
      "     -------------- ------------------------- 0.9/2.4 GB 59.2 MB/s eta 0:00:27\n",
      "     -------------- ------------------------- 0.9/2.4 GB 59.2 MB/s eta 0:00:26\n",
      "     --------------- ------------------------ 0.9/2.4 GB 59.0 MB/s eta 0:00:26\n",
      "     --------------- ------------------------ 0.9/2.4 GB 58.8 MB/s eta 0:00:26\n",
      "     --------------- ------------------------ 0.9/2.4 GB 58.8 MB/s eta 0:00:26\n",
      "     --------------- ------------------------ 1.0/2.4 GB 58.8 MB/s eta 0:00:26\n",
      "     --------------- ------------------------ 1.0/2.4 GB 58.8 MB/s eta 0:00:26\n",
      "     ---------------- ----------------------- 1.0/2.4 GB 59.0 MB/s eta 0:00:25\n",
      "     ---------------- ----------------------- 1.0/2.4 GB 58.8 MB/s eta 0:00:25\n",
      "     ---------------- ----------------------- 1.0/2.4 GB 59.0 MB/s eta 0:00:25\n",
      "     ---------------- ----------------------- 1.0/2.4 GB 58.8 MB/s eta 0:00:25\n",
      "     ----------------- ---------------------- 1.0/2.4 GB 58.8 MB/s eta 0:00:24\n",
      "     ----------------- ---------------------- 1.1/2.4 GB 59.0 MB/s eta 0:00:24\n",
      "     ----------------- ---------------------- 1.1/2.4 GB 59.0 MB/s eta 0:00:24\n",
      "     ----------------- ---------------------- 1.1/2.4 GB 59.4 MB/s eta 0:00:23\n",
      "     ----------------- ---------------------- 1.1/2.4 GB 59.7 MB/s eta 0:00:23\n",
      "     ------------------ --------------------- 1.1/2.4 GB 60.1 MB/s eta 0:00:23\n",
      "     ------------------ --------------------- 1.1/2.4 GB 59.7 MB/s eta 0:00:23\n",
      "     ------------------ --------------------- 1.1/2.4 GB 60.1 MB/s eta 0:00:22\n",
      "     ------------------ --------------------- 1.1/2.4 GB 60.5 MB/s eta 0:00:22\n",
      "     ------------------ --------------------- 1.1/2.4 GB 60.7 MB/s eta 0:00:22\n",
      "     ------------------- -------------------- 1.2/2.4 GB 60.7 MB/s eta 0:00:22\n",
      "     ------------------- -------------------- 1.2/2.4 GB 60.7 MB/s eta 0:00:21\n",
      "     ------------------- -------------------- 1.2/2.4 GB 60.9 MB/s eta 0:00:21\n",
      "     ------------------- -------------------- 1.2/2.4 GB 60.9 MB/s eta 0:00:21\n",
      "     ------------------- -------------------- 1.2/2.4 GB 60.9 MB/s eta 0:00:21\n",
      "     ------------------- -------------------- 1.2/2.4 GB 58.0 MB/s eta 0:00:22\n",
      "     -------------------- ------------------- 1.2/2.4 GB 58.0 MB/s eta 0:00:21\n",
      "     -------------------- ------------------- 1.2/2.4 GB 57.8 MB/s eta 0:00:21\n",
      "     -------------------- ------------------- 1.3/2.4 GB 57.8 MB/s eta 0:00:21\n",
      "     -------------------- ------------------- 1.3/2.4 GB 57.8 MB/s eta 0:00:21\n",
      "     -------------------- ------------------- 1.3/2.4 GB 57.6 MB/s eta 0:00:21\n",
      "     --------------------- ------------------ 1.3/2.4 GB 57.4 MB/s eta 0:00:21\n",
      "     --------------------- ------------------ 1.3/2.4 GB 57.6 MB/s eta 0:00:20\n",
      "     --------------------- ------------------ 1.3/2.4 GB 57.4 MB/s eta 0:00:20\n",
      "     --------------------- ------------------ 1.3/2.4 GB 57.4 MB/s eta 0:00:20\n",
      "     --------------------- ------------------ 1.3/2.4 GB 57.2 MB/s eta 0:00:20\n",
      "     ---------------------- ----------------- 1.4/2.4 GB 57.6 MB/s eta 0:00:19\n",
      "     ---------------------- ----------------- 1.4/2.4 GB 58.0 MB/s eta 0:00:19\n",
      "     ---------------------- ----------------- 1.4/2.4 GB 58.8 MB/s eta 0:00:19\n",
      "     ---------------------- ----------------- 1.4/2.4 GB 58.8 MB/s eta 0:00:18\n",
      "     ----------------------- ---------------- 1.4/2.4 GB 58.8 MB/s eta 0:00:18\n",
      "     ----------------------- ---------------- 1.4/2.4 GB 59.0 MB/s eta 0:00:18\n",
      "     ----------------------- ---------------- 1.4/2.4 GB 58.8 MB/s eta 0:00:18\n",
      "     ----------------------- ---------------- 1.4/2.4 GB 58.8 MB/s eta 0:00:17\n",
      "     ----------------------- ---------------- 1.5/2.4 GB 59.0 MB/s eta 0:00:17\n",
      "     ------------------------ --------------- 1.5/2.4 GB 58.6 MB/s eta 0:00:17\n",
      "     ------------------------ --------------- 1.5/2.4 GB 61.6 MB/s eta 0:00:16\n",
      "     ------------------------ --------------- 1.5/2.4 GB 61.4 MB/s eta 0:00:16\n",
      "     ------------------------ --------------- 1.5/2.4 GB 61.6 MB/s eta 0:00:16\n",
      "     ------------------------ --------------- 1.5/2.4 GB 61.9 MB/s eta 0:00:15\n",
      "     ------------------------- -------------- 1.5/2.4 GB 61.8 MB/s eta 0:00:15\n",
      "     ------------------------- -------------- 1.6/2.4 GB 62.3 MB/s eta 0:00:15\n",
      "     ------------------------- -------------- 1.6/2.4 GB 62.3 MB/s eta 0:00:15\n",
      "     ------------------------- -------------- 1.6/2.4 GB 62.3 MB/s eta 0:00:14\n",
      "     -------------------------- ------------- 1.6/2.4 GB 61.8 MB/s eta 0:00:14\n",
      "     -------------------------- ------------- 1.6/2.4 GB 61.6 MB/s eta 0:00:14\n",
      "     -------------------------- ------------- 1.6/2.4 GB 62.1 MB/s eta 0:00:14\n",
      "     -------------------------- ------------- 1.6/2.4 GB 61.2 MB/s eta 0:00:14\n",
      "     -------------------------- ------------- 1.6/2.4 GB 59.9 MB/s eta 0:00:14\n",
      "     -------------------------- ------------- 1.6/2.4 GB 59.7 MB/s eta 0:00:14\n",
      "     --------------------------- ------------ 1.7/2.4 GB 59.7 MB/s eta 0:00:14\n",
      "     --------------------------- ------------ 1.7/2.4 GB 58.2 MB/s eta 0:00:14\n",
      "     --------------------------- ------------ 1.7/2.4 GB 56.6 MB/s eta 0:00:14\n",
      "     --------------------------- ------------ 1.7/2.4 GB 54.9 MB/s eta 0:00:15\n",
      "     --------------------------- ------------ 1.7/2.4 GB 53.2 MB/s eta 0:00:15\n",
      "     --------------------------- ------------ 1.7/2.4 GB 52.5 MB/s eta 0:00:15\n",
      "     --------------------------- ------------ 1.7/2.4 GB 50.8 MB/s eta 0:00:15\n",
      "     --------------------------- ------------ 1.7/2.4 GB 50.5 MB/s eta 0:00:15\n",
      "     ---------------------------- ----------- 1.7/2.4 GB 50.0 MB/s eta 0:00:15\n",
      "     ---------------------------- ----------- 1.7/2.4 GB 49.9 MB/s eta 0:00:15\n",
      "     ---------------------------- ----------- 1.7/2.4 GB 49.6 MB/s eta 0:00:15\n",
      "     ---------------------------- ----------- 1.7/2.4 GB 49.2 MB/s eta 0:00:15\n",
      "     ---------------------------- ----------- 1.8/2.4 GB 49.0 MB/s eta 0:00:15\n",
      "     ---------------------------- ----------- 1.8/2.4 GB 49.0 MB/s eta 0:00:14\n",
      "     ----------------------------- ---------- 1.8/2.4 GB 48.9 MB/s eta 0:00:14\n",
      "     ----------------------------- ---------- 1.8/2.4 GB 46.9 MB/s eta 0:00:15\n",
      "     ----------------------------- ---------- 1.8/2.4 GB 46.7 MB/s eta 0:00:14\n",
      "     ----------------------------- ---------- 1.8/2.4 GB 46.0 MB/s eta 0:00:14\n",
      "     ----------------------------- ---------- 1.8/2.4 GB 45.9 MB/s eta 0:00:14\n",
      "     ----------------------------- ---------- 1.8/2.4 GB 45.8 MB/s eta 0:00:14\n",
      "     ------------------------------ --------- 1.8/2.4 GB 45.8 MB/s eta 0:00:14\n",
      "     ------------------------------ --------- 1.9/2.4 GB 46.3 MB/s eta 0:00:13\n",
      "     ------------------------------ --------- 1.9/2.4 GB 46.0 MB/s eta 0:00:13\n",
      "     ------------------------------ --------- 1.9/2.4 GB 45.9 MB/s eta 0:00:13\n",
      "     ------------------------------ --------- 1.9/2.4 GB 46.0 MB/s eta 0:00:13\n",
      "     ------------------------------- -------- 1.9/2.4 GB 47.2 MB/s eta 0:00:12\n",
      "     ------------------------------- -------- 1.9/2.4 GB 46.9 MB/s eta 0:00:12\n",
      "     ------------------------------- -------- 1.9/2.4 GB 48.0 MB/s eta 0:00:11\n",
      "     ------------------------------- -------- 1.9/2.4 GB 52.4 MB/s eta 0:00:10\n",
      "     -------------------------------- ------- 2.0/2.4 GB 54.8 MB/s eta 0:00:09\n",
      "     -------------------------------- ------- 2.0/2.4 GB 55.1 MB/s eta 0:00:09\n",
      "     -------------------------------- ------- 2.0/2.4 GB 55.7 MB/s eta 0:00:09\n",
      "     -------------------------------- ------- 2.0/2.4 GB 56.2 MB/s eta 0:00:08\n",
      "     -------------------------------- ------- 2.0/2.4 GB 56.4 MB/s eta 0:00:08\n",
      "     --------------------------------- ------ 2.0/2.4 GB 57.0 MB/s eta 0:00:08\n",
      "     --------------------------------- ------ 2.0/2.4 GB 57.0 MB/s eta 0:00:08\n",
      "     --------------------------------- ------ 2.0/2.4 GB 59.9 MB/s eta 0:00:07\n",
      "     --------------------------------- ------ 2.1/2.4 GB 61.2 MB/s eta 0:00:07\n",
      "     ---------------------------------- ----- 2.1/2.4 GB 61.4 MB/s eta 0:00:06\n",
      "     ---------------------------------- ----- 2.1/2.4 GB 62.1 MB/s eta 0:00:06\n",
      "     ---------------------------------- ----- 2.1/2.4 GB 62.1 MB/s eta 0:00:06\n",
      "     ---------------------------------- ----- 2.1/2.4 GB 62.1 MB/s eta 0:00:06\n",
      "     ---------------------------------- ----- 2.1/2.4 GB 62.5 MB/s eta 0:00:05\n",
      "     ----------------------------------- ---- 2.1/2.4 GB 62.1 MB/s eta 0:00:05\n",
      "     ----------------------------------- ---- 2.2/2.4 GB 62.5 MB/s eta 0:00:05\n",
      "     ----------------------------------- ---- 2.2/2.4 GB 62.5 MB/s eta 0:00:05\n",
      "     ----------------------------------- ---- 2.2/2.4 GB 62.5 MB/s eta 0:00:05\n",
      "     ----------------------------------- ---- 2.2/2.4 GB 62.5 MB/s eta 0:00:04\n",
      "     ------------------------------------ --- 2.2/2.4 GB 61.8 MB/s eta 0:00:04\n",
      "     ------------------------------------ --- 2.2/2.4 GB 61.9 MB/s eta 0:00:04\n",
      "     ------------------------------------ --- 2.2/2.4 GB 62.1 MB/s eta 0:00:04\n",
      "     ------------------------------------ --- 2.2/2.4 GB 62.1 MB/s eta 0:00:04\n",
      "     ------------------------------------- -- 2.3/2.4 GB 61.9 MB/s eta 0:00:03\n",
      "     ------------------------------------- -- 2.3/2.4 GB 62.1 MB/s eta 0:00:03\n",
      "     ------------------------------------- -- 2.3/2.4 GB 61.9 MB/s eta 0:00:03\n",
      "     ------------------------------------- -- 2.3/2.4 GB 61.9 MB/s eta 0:00:03\n",
      "     ------------------------------------- -- 2.3/2.4 GB 61.9 MB/s eta 0:00:03\n",
      "     -------------------------------------- - 2.3/2.4 GB 61.6 MB/s eta 0:00:02\n",
      "     -------------------------------------- - 2.3/2.4 GB 61.9 MB/s eta 0:00:02\n",
      "     -------------------------------------- - 2.4/2.4 GB 61.4 MB/s eta 0:00:02\n",
      "     -------------------------------------- - 2.4/2.4 GB 61.2 MB/s eta 0:00:02\n",
      "     -------------------------------------- - 2.4/2.4 GB 60.9 MB/s eta 0:00:02\n",
      "     ---------------------------------------  2.4/2.4 GB 61.2 MB/s eta 0:00:01\n",
      "     ---------------------------------------  2.4/2.4 GB 61.6 MB/s eta 0:00:01\n",
      "     ---------------------------------------  2.4/2.4 GB 61.4 MB/s eta 0:00:01\n",
      "     ---------------------------------------  2.4/2.4 GB 61.4 MB/s eta 0:00:01\n",
      "     ---------------------------------------  2.4/2.4 GB 61.4 MB/s eta 0:00:01\n",
      "     ---------------------------------------  2.4/2.4 GB 61.4 MB/s eta 0:00:01\n",
      "     ---------------------------------------  2.4/2.4 GB 61.4 MB/s eta 0:00:01\n",
      "     ---------------------------------------  2.4/2.4 GB 61.4 MB/s eta 0:00:01\n",
      "     ---------------------------------------  2.4/2.4 GB 61.4 MB/s eta 0:00:01\n",
      "     ---------------------------------------  2.4/2.4 GB 61.4 MB/s eta 0:00:01\n",
      "     ---------------------------------------  2.4/2.4 GB 61.4 MB/s eta 0:00:01\n",
      "     ---------------------------------------  2.4/2.4 GB 61.4 MB/s eta 0:00:01\n",
      "     ---------------------------------------  2.4/2.4 GB 61.4 MB/s eta 0:00:01\n",
      "     ---------------------------------------  2.4/2.4 GB 61.4 MB/s eta 0:00:01\n",
      "     ---------------------------------------  2.4/2.4 GB 61.4 MB/s eta 0:00:01\n",
      "     ---------------------------------------  2.4/2.4 GB 61.4 MB/s eta 0:00:01\n",
      "     ---------------------------------------  2.4/2.4 GB 61.4 MB/s eta 0:00:01\n",
      "     ---------------------------------------  2.4/2.4 GB 61.4 MB/s eta 0:00:01\n",
      "     ---------------------------------------  2.4/2.4 GB 61.4 MB/s eta 0:00:01\n",
      "     ---------------------------------------- 2.4/2.4 GB 35.5 MB/s eta 0:00:00\n",
      "Collecting torchvision\n",
      "  Downloading https://download.pytorch.org/whl/cu121/torchvision-0.19.0%2Bcu121-cp311-cp311-win_amd64.whl (5.8 MB)\n",
      "     ---------------------------------------- 0.0/5.8 MB ? eta -:--:--\n",
      "     ---------------------------------------- 5.8/5.8 MB 50.7 MB/s eta 0:00:00\n",
      "Collecting torchaudio\n",
      "  Downloading https://download.pytorch.org/whl/cu121/torchaudio-2.4.0%2Bcu121-cp311-cp311-win_amd64.whl (4.1 MB)\n",
      "     ---------------------------------------- 0.0/4.1 MB ? eta -:--:--\n",
      "     ---------------------------------------- 4.1/4.1 MB 35.4 MB/s eta 0:00:00\n",
      "Collecting filelock (from torch)\n",
      "  Using cached https://download.pytorch.org/whl/filelock-3.13.1-py3-none-any.whl (11 kB)\n",
      "Requirement already satisfied: typing-extensions>=4.8.0 in c:\\users\\alexc\\anaconda3\\envs\\torchp11\\lib\\site-packages (from torch) (4.12.2)\n",
      "Collecting sympy (from torch)\n",
      "  Using cached https://download.pytorch.org/whl/sympy-1.12-py3-none-any.whl (5.7 MB)\n",
      "Collecting networkx (from torch)\n",
      "  Using cached https://download.pytorch.org/whl/networkx-3.2.1-py3-none-any.whl (1.6 MB)\n",
      "Collecting jinja2 (from torch)\n",
      "  Using cached https://download.pytorch.org/whl/Jinja2-3.1.3-py3-none-any.whl (133 kB)\n",
      "Collecting fsspec (from torch)\n",
      "  Using cached https://download.pytorch.org/whl/fsspec-2024.2.0-py3-none-any.whl (170 kB)\n",
      "Collecting numpy (from torchvision)\n",
      "  Downloading https://download.pytorch.org/whl/numpy-1.26.3-cp311-cp311-win_amd64.whl (15.8 MB)\n",
      "     ---------------------------------------- 0.0/15.8 MB ? eta -:--:--\n",
      "     ------------------------- ------------- 10.2/15.8 MB 49.1 MB/s eta 0:00:01\n",
      "     --------------------------------------- 15.8/15.8 MB 47.4 MB/s eta 0:00:00\n",
      "Collecting pillow!=8.3.*,>=5.3.0 (from torchvision)\n",
      "  Downloading https://download.pytorch.org/whl/pillow-10.2.0-cp311-cp311-win_amd64.whl (2.6 MB)\n",
      "     ---------------------------------------- 0.0/2.6 MB ? eta -:--:--\n",
      "     ---------------------------------------- 2.6/2.6 MB 50.2 MB/s eta 0:00:00\n",
      "Collecting MarkupSafe>=2.0 (from jinja2->torch)\n",
      "  Downloading https://download.pytorch.org/whl/MarkupSafe-2.1.5-cp311-cp311-win_amd64.whl (17 kB)\n",
      "Collecting mpmath>=0.19 (from sympy->torch)\n",
      "  Using cached https://download.pytorch.org/whl/mpmath-1.3.0-py3-none-any.whl (536 kB)\n",
      "Installing collected packages: mpmath, sympy, pillow, numpy, networkx, MarkupSafe, fsspec, filelock, jinja2, torch, torchvision, torchaudio\n",
      "Successfully installed MarkupSafe-2.1.5 filelock-3.13.1 fsspec-2024.2.0 jinja2-3.1.3 mpmath-1.3.0 networkx-3.2.1 numpy-1.26.3 pillow-10.2.0 sympy-1.12 torch-2.4.0+cu121 torchaudio-2.4.0+cu121 torchvision-0.19.0+cu121\n",
      "Note: you may need to restart the kernel to use updated packages.\n"
     ]
    }
   ],
   "source": [
    "%pip install torch torchvision torchaudio --index-url https://download.pytorch.org/whl/cu121"
   ]
  },
  {
   "cell_type": "code",
   "execution_count": 1,
   "metadata": {},
   "outputs": [
    {
     "name": "stdout",
     "output_type": "stream",
     "text": [
      "Using cuda device\n"
     ]
    }
   ],
   "source": [
    "#For importing PyTorch and see if GPU is available\n",
    "import torch\n",
    "if torch.cuda.is_available():\n",
    "    device = torch.device(\"cuda\")\n",
    "else:\n",
    "    device = torch.device(\"cpu\")\n",
    "\n",
    "print(\"Using\", device, \"device\")"
   ]
  },
  {
   "cell_type": "code",
   "execution_count": 27,
   "metadata": {},
   "outputs": [
    {
     "name": "stdout",
     "output_type": "stream",
     "text": [
      "Requirement already satisfied: tqdm in c:\\users\\alexc\\anaconda3\\envs\\torchp11\\lib\\site-packages (4.66.5)\n",
      "Requirement already satisfied: colorama in c:\\users\\alexc\\anaconda3\\envs\\torchp11\\lib\\site-packages (from tqdm) (0.4.6)\n",
      "Note: you may need to restart the kernel to use updated packages.\n"
     ]
    }
   ],
   "source": [
    "#%pip install transformers\n",
    "#%pip install numpy scipy scikit-learn pandas matplotlib\n",
    "#%pip install imblearn\n",
    "#%pip install nltk\n",
    "%pip install tqdm"
   ]
  },
  {
   "cell_type": "code",
   "execution_count": null,
   "metadata": {},
   "outputs": [],
   "source": []
  },
  {
   "cell_type": "code",
   "execution_count": 28,
   "metadata": {},
   "outputs": [],
   "source": [
    "import torch\n",
    "from torch.utils.data import Dataset, DataLoader\n",
    "from transformers import RobertaTokenizer, RobertaForSequenceClassification\n",
    "from sklearn.model_selection import train_test_split\n",
    "from sklearn.metrics import accuracy_score, classification_report, confusion_matrix\n",
    "import re\n",
    "\n",
    "from sklearn.model_selection import train_test_split\n",
    "from sklearn.metrics import accuracy_score\n",
    "import re\n",
    "import nltk\n",
    "from nltk import word_tokenize\n",
    "import numpy as np\n",
    "import os\n",
    "import json\n",
    "import csv\n",
    "import pandas as pd\n",
    "import pandas as pd\n",
    "from imblearn.over_sampling import RandomOverSampler\n",
    "from transformers import RobertaTokenizer, TFRobertaForSequenceClassification\n",
    "from sklearn.metrics import classification_report, confusion_matrix\n",
    "import matplotlib.pyplot as plt\n",
    "\n",
    "from tqdm import tqdm\n",
    "import time"
   ]
  },
  {
   "cell_type": "code",
   "execution_count": 5,
   "metadata": {},
   "outputs": [],
   "source": [
    "file_path = 'Sarcasm_Headlines_Dataset.json'\n",
    "df = pd.read_json(file_path, lines=True)"
   ]
  },
  {
   "cell_type": "code",
   "execution_count": 6,
   "metadata": {},
   "outputs": [
    {
     "data": {
      "text/plain": [
       "<bound method NDFrame.head of        is_sarcastic                                           headline  \\\n",
       "0                 1  thirtysomething scientists unveil doomsday clo...   \n",
       "1                 0  dem rep. totally nails why congress is falling...   \n",
       "2                 0  eat your veggies: 9 deliciously different recipes   \n",
       "3                 1  inclement weather prevents liar from getting t...   \n",
       "4                 1  mother comes pretty close to using word 'strea...   \n",
       "...             ...                                                ...   \n",
       "28614             1       jews to celebrate rosh hashasha or something   \n",
       "28615             1  internal affairs investigator disappointed con...   \n",
       "28616             0  the most beautiful acceptance speech this week...   \n",
       "28617             1  mars probe destroyed by orbiting spielberg-gat...   \n",
       "28618             1                 dad clarifies this not a food stop   \n",
       "\n",
       "                                            article_link  \n",
       "0      https://www.theonion.com/thirtysomething-scien...  \n",
       "1      https://www.huffingtonpost.com/entry/donna-edw...  \n",
       "2      https://www.huffingtonpost.com/entry/eat-your-...  \n",
       "3      https://local.theonion.com/inclement-weather-p...  \n",
       "4      https://www.theonion.com/mother-comes-pretty-c...  \n",
       "...                                                  ...  \n",
       "28614  https://www.theonion.com/jews-to-celebrate-ros...  \n",
       "28615  https://local.theonion.com/internal-affairs-in...  \n",
       "28616  https://www.huffingtonpost.com/entry/andrew-ah...  \n",
       "28617  https://www.theonion.com/mars-probe-destroyed-...  \n",
       "28618  https://www.theonion.com/dad-clarifies-this-no...  \n",
       "\n",
       "[28619 rows x 3 columns]>"
      ]
     },
     "execution_count": 6,
     "metadata": {},
     "output_type": "execute_result"
    }
   ],
   "source": [
    "df.head"
   ]
  },
  {
   "cell_type": "code",
   "execution_count": 7,
   "metadata": {},
   "outputs": [],
   "source": [
    "def remove_emojis(text):\n",
    "    emoji_pattern = re.compile(\"[\"\n",
    "        u\"\\U0001F600-\\U0001F64F\"  # emoticons\n",
    "        u\"\\U0001F300-\\U0001F5FF\"  # symbols & pictographs\n",
    "        u\"\\U0001F680-\\U0001F6FF\"  # transport & map symbols\n",
    "        u\"\\U0001F1E0-\\U0001F1FF\"  # flags (iOS)\n",
    "        u\"\\U00002702-\\U000027B0\"\n",
    "        u\"\\U000024C2-\\U0001F251\"\n",
    "        \"]+\", flags=re.UNICODE)\n",
    "    return emoji_pattern.sub(r'', text)"
   ]
  },
  {
   "cell_type": "code",
   "execution_count": 8,
   "metadata": {},
   "outputs": [],
   "source": [
    "def remove_emails_hashtags_mentions(text):\n",
    "    pattern = re.compile(\n",
    "        r'([a-zA-Z0-9._%+-]+@[a-zA-Z0-9.-]+\\.[a-zA-Z]{2,})|'\n",
    "        r'(#\\w+)|'\n",
    "        r'(@\\w+)'\n",
    "    )\n",
    "    return pattern.sub('', text)"
   ]
  },
  {
   "cell_type": "code",
   "execution_count": 9,
   "metadata": {},
   "outputs": [],
   "source": [
    "def preprocess_text(text):\n",
    "    text = str(text)\n",
    "    text = remove_emails_hashtags_mentions(text)\n",
    "    text = remove_emojis(text)\n",
    "    text = re.sub('[^a-zA-Z]', ' ', text).lower()\n",
    "    text = re.sub(r'\\s+', ' ', text).strip()\n",
    "    return text"
   ]
  },
  {
   "cell_type": "code",
   "execution_count": 10,
   "metadata": {},
   "outputs": [],
   "source": [
    "df['cleaned_headlines'] = df['headline'].apply(preprocess_text)"
   ]
  },
  {
   "cell_type": "code",
   "execution_count": 13,
   "metadata": {},
   "outputs": [
    {
     "data": {
      "text/plain": [
       "'thirtysomething scientists unveil doomsday clock of hair loss'"
      ]
     },
     "execution_count": 13,
     "metadata": {},
     "output_type": "execute_result"
    }
   ],
   "source": [
    "df['headline'][0]"
   ]
  },
  {
   "cell_type": "code",
   "execution_count": 14,
   "metadata": {},
   "outputs": [
    {
     "data": {
      "text/plain": [
       "(28619, 4)"
      ]
     },
     "execution_count": 14,
     "metadata": {},
     "output_type": "execute_result"
    }
   ],
   "source": [
    "df.shape"
   ]
  },
  {
   "cell_type": "code",
   "execution_count": 15,
   "metadata": {},
   "outputs": [],
   "source": [
    "# Balance the dataset\n",
    "def balance_df(df, text, target):\n",
    "    ros = RandomOverSampler()\n",
    "    train_x, train_y = ros.fit_resample(np.array(df[text]).reshape(-1,1), np.array(df[target]).reshape(-1,1))\n",
    "    new_df = pd.DataFrame(list(zip([x[0] for x in train_x], train_y)), columns=[text, target])\n",
    "    return new_df\n",
    "\n",
    "sarcasm_df = balance_df(df, 'cleaned_headlines', 'is_sarcastic')"
   ]
  },
  {
   "cell_type": "code",
   "execution_count": 17,
   "metadata": {},
   "outputs": [
    {
     "data": {
      "text/html": [
       "<div>\n",
       "<style scoped>\n",
       "    .dataframe tbody tr th:only-of-type {\n",
       "        vertical-align: middle;\n",
       "    }\n",
       "\n",
       "    .dataframe tbody tr th {\n",
       "        vertical-align: top;\n",
       "    }\n",
       "\n",
       "    .dataframe thead th {\n",
       "        text-align: right;\n",
       "    }\n",
       "</style>\n",
       "<table border=\"1\" class=\"dataframe\">\n",
       "  <thead>\n",
       "    <tr style=\"text-align: right;\">\n",
       "      <th></th>\n",
       "      <th>cleaned_headlines</th>\n",
       "      <th>is_sarcastic</th>\n",
       "    </tr>\n",
       "  </thead>\n",
       "  <tbody>\n",
       "    <tr>\n",
       "      <th>0</th>\n",
       "      <td>thirtysomething scientists unveil doomsday clo...</td>\n",
       "      <td>1</td>\n",
       "    </tr>\n",
       "    <tr>\n",
       "      <th>1</th>\n",
       "      <td>dem rep totally nails why congress is falling ...</td>\n",
       "      <td>0</td>\n",
       "    </tr>\n",
       "    <tr>\n",
       "      <th>2</th>\n",
       "      <td>eat your veggies deliciously different recipes</td>\n",
       "      <td>0</td>\n",
       "    </tr>\n",
       "    <tr>\n",
       "      <th>3</th>\n",
       "      <td>inclement weather prevents liar from getting t...</td>\n",
       "      <td>1</td>\n",
       "    </tr>\n",
       "    <tr>\n",
       "      <th>4</th>\n",
       "      <td>mother comes pretty close to using word stream...</td>\n",
       "      <td>1</td>\n",
       "    </tr>\n",
       "  </tbody>\n",
       "</table>\n",
       "</div>"
      ],
      "text/plain": [
       "                                   cleaned_headlines  is_sarcastic\n",
       "0  thirtysomething scientists unveil doomsday clo...             1\n",
       "1  dem rep totally nails why congress is falling ...             0\n",
       "2     eat your veggies deliciously different recipes             0\n",
       "3  inclement weather prevents liar from getting t...             1\n",
       "4  mother comes pretty close to using word stream...             1"
      ]
     },
     "execution_count": 17,
     "metadata": {},
     "output_type": "execute_result"
    }
   ],
   "source": [
    "sarcasm_df.head()"
   ]
  },
  {
   "cell_type": "code",
   "execution_count": 18,
   "metadata": {},
   "outputs": [],
   "source": [
    "# Prepare data for PyTorch\n",
    "X = sarcasm_df[\"cleaned_headlines\"].values\n",
    "y = sarcasm_df['is_sarcastic'].values\n",
    "X_train, X_test, y_train, y_test = train_test_split(X, y, test_size=0.2, random_state=42)"
   ]
  },
  {
   "cell_type": "code",
   "execution_count": 19,
   "metadata": {},
   "outputs": [],
   "source": [
    "# Create a custom dataset\n",
    "class SarcasmDataset(Dataset):\n",
    "    def __init__(self, texts, labels, tokenizer, max_length):\n",
    "        self.texts = texts\n",
    "        self.labels = labels\n",
    "        self.tokenizer = tokenizer\n",
    "        self.max_length = max_length\n",
    "\n",
    "    def __len__(self):\n",
    "        return len(self.texts)\n",
    "\n",
    "    def __getitem__(self, idx):\n",
    "        text = str(self.texts[idx])\n",
    "        label = self.labels[idx]\n",
    "\n",
    "        encoding = self.tokenizer.encode_plus(\n",
    "            text,\n",
    "            add_special_tokens=True,\n",
    "            max_length=self.max_length,\n",
    "            return_token_type_ids=False,\n",
    "            padding='max_length',\n",
    "            truncation=True,\n",
    "            return_attention_mask=True,\n",
    "            return_tensors='pt',\n",
    "        )\n",
    "\n",
    "        return {\n",
    "            'input_ids': encoding['input_ids'].flatten(),\n",
    "            'attention_mask': encoding['attention_mask'].flatten(),\n",
    "            'labels': torch.tensor(label, dtype=torch.long)\n",
    "        }"
   ]
  },
  {
   "cell_type": "markdown",
   "metadata": {},
   "source": [
    "# Modello Roberta"
   ]
  },
  {
   "cell_type": "code",
   "execution_count": 20,
   "metadata": {},
   "outputs": [
    {
     "name": "stderr",
     "output_type": "stream",
     "text": [
      "c:\\Users\\alexc\\anaconda3\\envs\\TorchP11\\Lib\\site-packages\\huggingface_hub\\file_download.py:159: UserWarning: `huggingface_hub` cache-system uses symlinks by default to efficiently store duplicated files but your machine does not support them in C:\\Users\\alexc\\.cache\\huggingface\\hub\\models--roberta-base. Caching files will still work but in a degraded version that might require more space on your disk. This warning can be disabled by setting the `HF_HUB_DISABLE_SYMLINKS_WARNING` environment variable. For more details, see https://huggingface.co/docs/huggingface_hub/how-to-cache#limitations.\n",
      "To support symlinks on Windows, you either need to activate Developer Mode or to run Python as an administrator. In order to see activate developer mode, see this article: https://docs.microsoft.com/en-us/windows/apps/get-started/enable-your-device-for-development\n",
      "  warnings.warn(message)\n",
      "c:\\Users\\alexc\\anaconda3\\envs\\TorchP11\\Lib\\site-packages\\transformers\\tokenization_utils_base.py:1601: FutureWarning: `clean_up_tokenization_spaces` was not set. It will be set to `True` by default. This behavior will be depracted in transformers v4.45, and will be then set to `False` by default. For more details check this issue: https://github.com/huggingface/transformers/issues/31884\n",
      "  warnings.warn(\n",
      "Some weights of RobertaForSequenceClassification were not initialized from the model checkpoint at roberta-base and are newly initialized: ['classifier.dense.bias', 'classifier.dense.weight', 'classifier.out_proj.bias', 'classifier.out_proj.weight']\n",
      "You should probably TRAIN this model on a down-stream task to be able to use it for predictions and inference.\n"
     ]
    }
   ],
   "source": [
    "tokenizer = RobertaTokenizer.from_pretrained('roberta-base')\n",
    "model = RobertaForSequenceClassification.from_pretrained('roberta-base', num_labels=2).to(device)"
   ]
  },
  {
   "cell_type": "code",
   "execution_count": 24,
   "metadata": {},
   "outputs": [],
   "source": [
    "# Create datasets and dataloaders\n",
    "max_length = 514 # QUESTO E' DA CAPIRE BENE\n",
    "train_dataset = SarcasmDataset(X_train, y_train, tokenizer, max_length)\n",
    "test_dataset = SarcasmDataset(X_test, y_test, tokenizer, max_length)\n",
    "\n",
    "train_loader = DataLoader(train_dataset, batch_size=16, shuffle=True)\n",
    "test_loader = DataLoader(test_dataset, batch_size=16)"
   ]
  },
  {
   "cell_type": "code",
   "execution_count": 25,
   "metadata": {},
   "outputs": [],
   "source": [
    "# Training settings\n",
    "optimizer = torch.optim.AdamW(model.parameters(), lr=5e-5)\n",
    "num_epochs = 5"
   ]
  },
  {
   "cell_type": "code",
   "execution_count": 29,
   "metadata": {},
   "outputs": [
    {
     "name": "stderr",
     "output_type": "stream",
     "text": [
      "Epoch 1/5: 100%|██████████| 1499/1499 [27:17<00:00,  1.09s/it, loss=0.6903]\n"
     ]
    },
    {
     "name": "stdout",
     "output_type": "stream",
     "text": [
      "\n",
      "Epoch 1/5\n",
      "Average training loss: 0.2951\n",
      "Epoch time: 1637.60 seconds\n"
     ]
    },
    {
     "name": "stderr",
     "output_type": "stream",
     "text": [
      "Validation: 100%|██████████| 375/375 [04:09<00:00,  1.50it/s]\n"
     ]
    },
    {
     "name": "stdout",
     "output_type": "stream",
     "text": [
      "Validation Loss: 0.2480\n",
      "Validation Accuracy: 0.9002\n",
      "--------------------------------------------------\n"
     ]
    },
    {
     "name": "stderr",
     "output_type": "stream",
     "text": [
      "Epoch 2/5: 100%|██████████| 1499/1499 [26:43<00:00,  1.07s/it, loss=0.4244]\n"
     ]
    },
    {
     "name": "stdout",
     "output_type": "stream",
     "text": [
      "\n",
      "Epoch 2/5\n",
      "Average training loss: 0.1767\n",
      "Epoch time: 1603.20 seconds\n"
     ]
    },
    {
     "name": "stderr",
     "output_type": "stream",
     "text": [
      "Validation: 100%|██████████| 375/375 [04:06<00:00,  1.52it/s]\n"
     ]
    },
    {
     "name": "stdout",
     "output_type": "stream",
     "text": [
      "Validation Loss: 0.2227\n",
      "Validation Accuracy: 0.9196\n",
      "--------------------------------------------------\n"
     ]
    },
    {
     "name": "stderr",
     "output_type": "stream",
     "text": [
      "Epoch 3/5: 100%|██████████| 1499/1499 [26:33<00:00,  1.06s/it, loss=0.0126]\n"
     ]
    },
    {
     "name": "stdout",
     "output_type": "stream",
     "text": [
      "\n",
      "Epoch 3/5\n",
      "Average training loss: 0.1256\n",
      "Epoch time: 1593.29 seconds\n"
     ]
    },
    {
     "name": "stderr",
     "output_type": "stream",
     "text": [
      "Validation: 100%|██████████| 375/375 [04:06<00:00,  1.52it/s]\n"
     ]
    },
    {
     "name": "stdout",
     "output_type": "stream",
     "text": [
      "Validation Loss: 0.2478\n",
      "Validation Accuracy: 0.9211\n",
      "--------------------------------------------------\n"
     ]
    },
    {
     "name": "stderr",
     "output_type": "stream",
     "text": [
      "Epoch 4/5: 100%|██████████| 1499/1499 [26:33<00:00,  1.06s/it, loss=0.1787]\n"
     ]
    },
    {
     "name": "stdout",
     "output_type": "stream",
     "text": [
      "\n",
      "Epoch 4/5\n",
      "Average training loss: 0.0852\n",
      "Epoch time: 1593.10 seconds\n"
     ]
    },
    {
     "name": "stderr",
     "output_type": "stream",
     "text": [
      "Validation: 100%|██████████| 375/375 [04:05<00:00,  1.52it/s]\n"
     ]
    },
    {
     "name": "stdout",
     "output_type": "stream",
     "text": [
      "Validation Loss: 0.3179\n",
      "Validation Accuracy: 0.9032\n",
      "--------------------------------------------------\n"
     ]
    },
    {
     "name": "stderr",
     "output_type": "stream",
     "text": [
      "Epoch 5/5: 100%|██████████| 1499/1499 [26:46<00:00,  1.07s/it, loss=0.0069]\n"
     ]
    },
    {
     "name": "stdout",
     "output_type": "stream",
     "text": [
      "\n",
      "Epoch 5/5\n",
      "Average training loss: 0.0717\n",
      "Epoch time: 1606.11 seconds\n"
     ]
    },
    {
     "name": "stderr",
     "output_type": "stream",
     "text": [
      "Validation: 100%|██████████| 375/375 [04:14<00:00,  1.47it/s]"
     ]
    },
    {
     "name": "stdout",
     "output_type": "stream",
     "text": [
      "Validation Loss: 0.2792\n",
      "Validation Accuracy: 0.9196\n",
      "--------------------------------------------------\n"
     ]
    },
    {
     "name": "stderr",
     "output_type": "stream",
     "text": [
      "\n"
     ]
    }
   ],
   "source": [
    "# Training loop\n",
    "for epoch in range(num_epochs):\n",
    "    model.train()\n",
    "    total_loss = 0\n",
    "    start_time = time.time()\n",
    "    \n",
    "    progress_bar = tqdm(enumerate(train_loader), total=len(train_loader), desc=f\"Epoch {epoch+1}/{num_epochs}\")\n",
    "    \n",
    "    for batch_idx, batch in progress_bar:\n",
    "        optimizer.zero_grad()\n",
    "        input_ids = batch['input_ids'].to(device)\n",
    "        attention_mask = batch['attention_mask'].to(device)\n",
    "        labels = batch['labels'].to(device)\n",
    "        \n",
    "        outputs = model(input_ids, attention_mask=attention_mask, labels=labels)\n",
    "        loss = outputs.loss\n",
    "        total_loss += loss.item()\n",
    "        \n",
    "        loss.backward()\n",
    "        optimizer.step()\n",
    "        \n",
    "        # Update progress bar\n",
    "        progress_bar.set_postfix({'loss': f\"{loss.item():.4f}\"})\n",
    "    \n",
    "    avg_train_loss = total_loss / len(train_loader)\n",
    "    end_time = time.time()\n",
    "    epoch_time = end_time - start_time\n",
    "    \n",
    "    print(f\"\\nEpoch {epoch+1}/{num_epochs}\")\n",
    "    print(f\"Average training loss: {avg_train_loss:.4f}\")\n",
    "    print(f\"Epoch time: {epoch_time:.2f} seconds\")\n",
    "\n",
    "    # Validation\n",
    "    model.eval()\n",
    "    val_preds, val_labels = [], []\n",
    "    val_loss = 0\n",
    "    \n",
    "    with torch.no_grad():\n",
    "        for batch in tqdm(test_loader, desc=\"Validation\"):\n",
    "            input_ids = batch['input_ids'].to(device)\n",
    "            attention_mask = batch['attention_mask'].to(device)\n",
    "            labels = batch['labels'].to(device)\n",
    "            \n",
    "            outputs = model(input_ids, attention_mask=attention_mask, labels=labels)\n",
    "            val_loss += outputs.loss.item()\n",
    "            preds = torch.argmax(outputs.logits, dim=1)\n",
    "            \n",
    "            val_preds.extend(preds.cpu().numpy())\n",
    "            val_labels.extend(labels.cpu().numpy())\n",
    "    \n",
    "    avg_val_loss = val_loss / len(test_loader)\n",
    "    val_accuracy = accuracy_score(val_labels, val_preds)\n",
    "    print(f\"Validation Loss: {avg_val_loss:.4f}\")\n",
    "    print(f\"Validation Accuracy: {val_accuracy:.4f}\")\n",
    "    print(\"-\" * 50)"
   ]
  },
  {
   "cell_type": "code",
   "execution_count": 30,
   "metadata": {},
   "outputs": [],
   "source": [
    "# Final evaluation\n",
    "model.eval()\n",
    "all_preds, all_labels = [], []\n",
    "with torch.no_grad():\n",
    "    for batch in test_loader:\n",
    "        input_ids = batch['input_ids'].to(device)\n",
    "        attention_mask = batch['attention_mask'].to(device)\n",
    "        labels = batch['labels'].to(device)\n",
    "        \n",
    "        outputs = model(input_ids, attention_mask=attention_mask)\n",
    "        preds = torch.argmax(outputs.logits, dim=1)\n",
    "        \n",
    "        all_preds.extend(preds.cpu().numpy())\n",
    "        all_labels.extend(labels.cpu().numpy())"
   ]
  },
  {
   "cell_type": "code",
   "execution_count": 31,
   "metadata": {},
   "outputs": [
    {
     "name": "stdout",
     "output_type": "stream",
     "text": [
      "              precision    recall  f1-score   support\n",
      "\n",
      "           0       0.92      0.92      0.92      2966\n",
      "           1       0.92      0.92      0.92      3028\n",
      "\n",
      "    accuracy                           0.92      5994\n",
      "   macro avg       0.92      0.92      0.92      5994\n",
      "weighted avg       0.92      0.92      0.92      5994\n",
      "\n"
     ]
    }
   ],
   "source": [
    "# Print classification report\n",
    "print(classification_report(all_labels, all_preds))"
   ]
  },
  {
   "cell_type": "code",
   "execution_count": 33,
   "metadata": {},
   "outputs": [
    {
     "data": {
      "image/png": "[encoded data removed]",
      "text/plain": [
       "<Figure size 800x600 with 2 Axes>"
      ]
     },
     "metadata": {},
     "output_type": "display_data"
    }
   ],
   "source": [
    "# Plot confusion matrix\n",
    "cm = confusion_matrix(all_labels, all_preds)\n",
    "plt.figure(figsize=(8,6))\n",
    "plt.imshow(cm, interpolation='nearest', cmap=plt.cm.Blues)\n",
    "plt.title(\"Confusion Matrix\")\n",
    "plt.colorbar()\n",
    "tick_marks = np.arange(2)\n",
    "plt.xticks(tick_marks, ['Not Sarcastic', 'Sarcastic'])\n",
    "plt.yticks(tick_marks, ['Not Sarcastic', 'Sarcastic'])\n",
    "\n",
    "thresh = cm.max() / 2.\n",
    "for i in range(cm.shape[0]):\n",
    "    for j in range(cm.shape[1]):\n",
    "        plt.text(j, i, str(cm[i, j]), ha='center', va='center', color='black')\n",
    "\n",
    "plt.xlabel(\"Predicted Label\")\n",
    "plt.ylabel(\"True Label\")\n",
    "plt.tight_layout()\n",
    "plt.show()"
   ]
  },
  {
   "cell_type": "code",
   "execution_count": 38,
   "metadata": {},
   "outputs": [
    {
     "data": {
      "text/plain": [
       "('./sarcasm_model/tokenizer_config.json',\n",
       " './sarcasm_model/special_tokens_map.json',\n",
       " './sarcasm_model/vocab.json',\n",
       " './sarcasm_model/merges.txt',\n",
       " './sarcasm_model/added_tokens.json')"
      ]
     },
     "execution_count": 38,
     "metadata": {},
     "output_type": "execute_result"
    }
   ],
   "source": [
    "# After training and evaluation, save both the model and tokenizer\n",
    "output_dir = './sarcasm_model/'\n",
    "os.makedirs(output_dir, exist_ok=True)\n",
    "\n",
    "# Save the model\n",
    "torch.save(model.state_dict(), os.path.join(output_dir, \"roberta_sarcasm_detection.pth\"))\n",
    "\n",
    "# Save the tokenizer\n",
    "tokenizer.save_pretrained(output_dir)"
   ]
  },
  {
   "cell_type": "code",
   "execution_count": 39,
   "metadata": {},
   "outputs": [
    {
     "name": "stdout",
     "output_type": "stream",
     "text": [
      "Model and tokenizer saved to ./sarcasm_model/\n"
     ]
    }
   ],
   "source": [
    "print(f\"Model and tokenizer saved to {output_dir}\")"
   ]
  },
  {
   "cell_type": "code",
   "execution_count": 40,
   "metadata": {},
   "outputs": [],
   "source": [
    "# Example of how to load the model and tokenizer for inference\n",
    "def load_model_and_tokenizer(model_dir):\n",
    "    # Load the tokenizer\n",
    "    loaded_tokenizer = RobertaTokenizer.from_pretrained(model_dir)\n",
    "    \n",
    "    # Load the model\n",
    "    loaded_model = RobertaForSequenceClassification.from_pretrained('roberta-base', num_labels=2)\n",
    "    loaded_model.load_state_dict(torch.load(os.path.join(model_dir, \"roberta_sarcasm_detection.pth\")))\n",
    "    loaded_model.to(device)\n",
    "    loaded_model.eval()\n",
    "    \n",
    "    return loaded_model, loaded_tokenizer"
   ]
  },
  {
   "cell_type": "code",
   "execution_count": 41,
   "metadata": {},
   "outputs": [
    {
     "name": "stderr",
     "output_type": "stream",
     "text": [
      "Some weights of RobertaForSequenceClassification were not initialized from the model checkpoint at roberta-base and are newly initialized: ['classifier.dense.bias', 'classifier.dense.weight', 'classifier.out_proj.bias', 'classifier.out_proj.weight']\n",
      "You should probably TRAIN this model on a down-stream task to be able to use it for predictions and inference.\n",
      "C:\\Users\\alexc\\AppData\\Local\\Temp\\ipykernel_80712\\331476131.py:8: FutureWarning: You are using `torch.load` with `weights_only=False` (the current default value), which uses the default pickle module implicitly. It is possible to construct malicious pickle data which will execute arbitrary code during unpickling (See https://github.com/pytorch/pytorch/blob/main/SECURITY.md#untrusted-models for more details). In a future release, the default value for `weights_only` will be flipped to `True`. This limits the functions that could be executed during unpickling. Arbitrary objects will no longer be allowed to be loaded via this mode unless they are explicitly allowlisted by the user via `torch.serialization.add_safe_globals`. We recommend you start setting `weights_only=True` for any use case where you don't have full control of the loaded file. Please open an issue on GitHub for any issues related to this experimental feature.\n",
      "  loaded_model.load_state_dict(torch.load(os.path.join(model_dir, \"roberta_sarcasm_detection.pth\")))\n"
     ]
    }
   ],
   "source": [
    "# Example usage\n",
    "loaded_model, loaded_tokenizer = load_model_and_tokenizer(output_dir)"
   ]
  },
  {
   "cell_type": "code",
   "execution_count": 64,
   "metadata": {},
   "outputs": [],
   "source": [
    "# Function for inference\n",
    "def predict_sarcasm(text, model, tokenizer):\n",
    "    encoding = tokenizer.encode_plus(\n",
    "        text,\n",
    "        add_special_tokens=True,\n",
    "        max_length=128,\n",
    "        return_token_type_ids=False,\n",
    "        padding='max_length',\n",
    "        truncation=True,\n",
    "        return_attention_mask=True,\n",
    "        return_tensors='pt',\n",
    "    )\n",
    "    \n",
    "    input_ids = encoding['input_ids'].to(device)\n",
    "    attention_mask = encoding['attention_mask'].to(device)\n",
    "    \n",
    "    with torch.no_grad():\n",
    "        outputs = model(input_ids, attention_mask=attention_mask)\n",
    "        prediction = torch.argmax(outputs.logits, dim=1)\n",
    "    \n",
    "    return \"Sarcastic\" if prediction.item() == 1 else \"Not Sarcastic\""
   ]
  },
  {
   "cell_type": "code",
   "execution_count": 65,
   "metadata": {},
   "outputs": [
    {
     "name": "stdout",
     "output_type": "stream",
     "text": [
      "Headline: 'Local man discovers secret to eternal youth: just don't age'\n",
      "Prediction: Sarcastic\n",
      "\n",
      "Headline: 'Breaking news: Water is wet, scientists confirm'\n",
      "Prediction: Not Sarcastic\n",
      "\n",
      "Headline: 'Study finds that eating ice cream for breakfast improves productivity, definitely not funded by Ben & Jerry's'\n",
      "Prediction: Sarcastic\n",
      "\n",
      "Headline: 'Area teenager shocked to discover that money doesn't grow on trees'\n",
      "Prediction: Sarcastic\n",
      "\n",
      "Headline: 'New diet trend: Breatharianism - just stop eating altogether!'\n",
      "Prediction: Not Sarcastic\n",
      "\n",
      "Headline: 'Government announces new initiative to solve poverty: 'Have you tried not being poor?''\n",
      "Prediction: Sarcastic\n",
      "\n",
      "Headline: 'Man who has never left his hometown declares himself world travel expert'\n",
      "Prediction: Sarcastic\n",
      "\n",
      "Headline: 'Local weather forecaster predicts 'weather' for tomorrow'\n",
      "Prediction: Sarcastic\n",
      "\n",
      "Headline: 'Breaking: Politician actually keeps campaign promise, world in shock'\n",
      "Prediction: Sarcastic\n",
      "\n",
      "Headline: 'New study shows that watching paint dry is the most exciting sport'\n",
      "Prediction: Not Sarcastic\n",
      "\n"
     ]
    }
   ],
   "source": [
    "sarcastic_headlines = [\n",
    "    \"Local man discovers secret to eternal youth: just don't age\",\n",
    "    \"Breaking news: Water is wet, scientists confirm\",\n",
    "    \"Study finds that eating ice cream for breakfast improves productivity, definitely not funded by Ben & Jerry's\",\n",
    "    \"Area teenager shocked to discover that money doesn't grow on trees\",\n",
    "    \"New diet trend: Breatharianism - just stop eating altogether!\",\n",
    "    \"Government announces new initiative to solve poverty: 'Have you tried not being poor?'\",\n",
    "    \"Man who has never left his hometown declares himself world travel expert\",\n",
    "    \"Local weather forecaster predicts 'weather' for tomorrow\",\n",
    "    \"Breaking: Politician actually keeps campaign promise, world in shock\",\n",
    "    \"New study shows that watching paint dry is the most exciting sport\"\n",
    "]\n",
    "\n",
    "for headline in sarcastic_headlines:\n",
    "    result = predict_sarcasm(headline, loaded_model, loaded_tokenizer)\n",
    "    print(f\"Headline: '{headline}'\\nPrediction: {result}\\n\")"
   ]
  }
 ],
 "metadata": {
  "kernelspec": {
   "display_name": ".venv",
   "language": "python",
   "name": "python3"
  },
  "language_info": {
   "codemirror_mode": {
    "name": "ipython",
    "version": 3
   },
   "file_extension": ".py",
   "mimetype": "text/x-python",
   "name": "python",
   "nbconvert_exporter": "python",
   "pygments_lexer": "ipython3",
   "version": "3.11.9"
  }
 },
 "nbformat": 4,
 "nbformat_minor": 2
}
